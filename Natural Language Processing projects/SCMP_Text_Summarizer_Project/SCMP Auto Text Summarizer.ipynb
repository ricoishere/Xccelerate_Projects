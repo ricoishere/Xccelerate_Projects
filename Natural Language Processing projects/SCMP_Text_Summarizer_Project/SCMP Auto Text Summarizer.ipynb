{
 "cells": [
  {
   "cell_type": "code",
   "execution_count": 2,
   "metadata": {
    "scrolled": true
   },
   "outputs": [
    {
     "name": "stdout",
     "output_type": "stream",
     "text": [
      "showing info https://raw.githubusercontent.com/nltk/nltk_data/gh-pages/index.xml\n"
     ]
    },
    {
     "data": {
      "text/plain": [
       "True"
      ]
     },
     "execution_count": 2,
     "metadata": {},
     "output_type": "execute_result"
    }
   ],
   "source": [
    "import nltk\n",
    "nltk.download()"
   ]
  },
  {
   "cell_type": "markdown",
   "metadata": {},
   "source": [
    "## Auto Summarizing Text\n",
    "\n",
    "Problem Definition  \n",
    "Retrieve Text  (bs4)  \n",
    "Pre-processing  \n",
    "Visualisation  \n",
    "Extract Sentences"
   ]
  },
  {
   "cell_type": "markdown",
   "metadata": {},
   "source": [
    "### Libraries"
   ]
  },
  {
   "cell_type": "code",
   "execution_count": 2,
   "metadata": {},
   "outputs": [],
   "source": [
    "from bs4 import BeautifulSoup\n",
    "import requests\n",
    "from nltk import tokenize\n",
    "from nltk.corpus import stopwords \n",
    "from nltk.tokenize import sent_tokenize, word_tokenize\n",
    "from string import punctuation\n",
    "import heapq\n",
    "from nltk.stem.porter import *"
   ]
  },
  {
   "cell_type": "markdown",
   "metadata": {},
   "source": [
    "### Retrieve Text"
   ]
  },
  {
   "cell_type": "code",
   "execution_count": 3,
   "metadata": {},
   "outputs": [],
   "source": [
    "url = 'https://www.scmp.com/news/hong-kong/politics/article/2176058/hong-kong-lawmaker-eddie-chus-ban-village-election-based'\n",
    "def GetText(url):\n",
    "    html = requests.get(url)\n",
    "    soup = BeautifulSoup(html.text, 'html.parser')\n",
    "    text = ' '.join(map(lambda p: p.text, soup.find_all('p')))\n",
    "    return text"
   ]
  },
  {
   "cell_type": "code",
   "execution_count": 4,
   "metadata": {},
   "outputs": [
    {
     "data": {
      "text/plain": [
       "\" Hong Kong localism and independence Comments: \\xa0  The decision to ban lawmaker Eddie Chu Hoi-dick from running in a rural representative election was based on a shaky argument that could be struck down in court, according to leading legal scholars, who also called on Hong Kong’s courts to clarify the vagueness in election laws. Johannes Chan Man-mun, the former law dean of the University of Hong Kong, was speaking on Sunday after Chu was told he would not be allowed to run for a post as a local village’s representative. Returning officer Enoch Yuen Ka-lok pointed to Chu’s stance on Hong Kong independence and said the lawmaker had dodged his questions on his political beliefs. Yuen took this to imply that Chu supported the possibility of Hong Kong breaking with Beijing in the future. Chan, however, said Chu’s responses to the returning officer were open to interpretation. The legal scholar did not believe they met the standard of giving the election officer “cogent, clear and compelling” evidence as required by the precedent set in the case of Andy Chan Ho-tin. Andy Chan was barred from standing in a Legislative Council by-election in New Territories West in 2016 because of his political beliefs. According to Section 24 of the Rural Representative Election Ordinance, candidates are required to declare their allegiance to the Hong Kong Special Administrative Region and to state they will uphold the Basic Law, Hong Kong’s mini-constitution, when filing their application. The allegiance requirement was written into law in 2003, mirroring clauses in the rules for the Legco and district council elections, but it had never been applied by an election officer.  The situation changed after separatist Andy Chan lost his election appeal in February this year, with the courts saying returning officers could ban candidates who held political views that ran contrary to the Basic Law. While the landmark ruling was concerned only with Legco elections, Johannes Chan said, after Chu’s case, returning officers for other elections could have similar powers to ban candidates from running, including in the district council elections next year. Gladys Li, the lawyer who represented Andy Chan, said the ruling would be binding on returning officers for other elections. Eric Cheung Tat-ming, another legal scholar at HKU, said Yuen had provided weak reasons for disqualifying Chu. He agreed that there will be room for Chu to launch an appeal. “The logic has become – if your interpretation of the Basic Law is different from the government’s, it means you have no intention of upholding the Basic Law,” Cheung said. He also said Hong Kong courts must clarify the vagueness in election laws and process such appeals more quickly. Stephen Fisher, the former deputy home affairs secretary who led the government’s effort to formalise rural representative elections under the ordinance, said it was “common sense” that rural representatives had to uphold allegiance to Hong Kong. “The village representatives are also elected by people, and they are empowered to identify who the indigenous villagers are,” Fisher said before Chu’s disqualification. “So it’s normal that the legal drafting [of the ordinance] follows the law on Legislative Council and district council elections.” Fisher, who would not comment on Chu’s case, said it would have been “unthinkable” for anyone back then to have imagined a candidate being disqualified for their political views. “The requirement was written there, but it was never contentious,” Fisher said.  Chu was disqualified by Yuen because he had “defended independence as an option to Hongkongers” in a statement in 2016. Pressed twice by the returning officer to clarify his position, Chu would say only that he did not support Hong Kong’s independence, but added that he would support another’s right to peacefully advocate it. Johannes Chan said Chu’s political stance was open to interpretation, and the election officer could hardly fulfil the criteria for providing “cogent, clear and compelling” evidence to disqualify him. “At best, we could argue Chu’s reply to the officer was vague about self-determination – even the returning officer himself confessed Chu was only ‘implicitly’ confirming independence as an option,” he said. “But we can’t take a candidate’s silence as his stance. That would have jumped many, many steps.” The decision on Sunday would also create a “conflicting” situation over Chu's political allegiance, Chan added, since the lawmaker remained in office but was disqualified in a separate election. Both Chan and Li said how the returning officer had come to the disqualification might require clarification in any future court ruling. “It was as if they [government officials] could read your mind,” Li said. “The court still has not clarified how far back election officials can look – such as in this case, could we go back to statements Chu made two years ago?” Chan asked.  Speaking at the Legislative Council on Monday, Chu said his main concern with launching an appeal was legal costs and how best to construct his argument in court. “Even if we apply for legal aid we have to bear a significant share (of the cost),” Chu said. Aside from the returning officer’s handling of his application, Chu said he might want to argue whether classifying Hong Kong independence as an option for the city’s self-determination was incompatible with the Basic Law. A decision will be made ahead of the January deadline to launch the appeal, he said. Executive councillor Ronny Tong Ka-wah said he was not surprised to learn of the returning officer’s decision. “Chu had failed to convince the returning officer that he has true intentions of upholding the Basic Law,” Tong said. “The public needs to respect the decision, while Chu can launch an appeal.” Though Chu had signed a declaration to pledge allegiance to the SAR and state his intention to uphold the Basic Law, Tong said it does not override public statements Chu made in the past. Tong also said it might not have made a difference, had Chu answered all the questions raised by the returning officer. Additional reporting by Sum Lok-kei  You are signed up. We think you'd also like\""
      ]
     },
     "execution_count": 4,
     "metadata": {},
     "output_type": "execute_result"
    }
   ],
   "source": [
    "GetText(url)"
   ]
  },
  {
   "cell_type": "markdown",
   "metadata": {},
   "source": [
    "### Pre-processing"
   ]
  },
  {
   "cell_type": "code",
   "execution_count": 5,
   "metadata": {},
   "outputs": [],
   "source": [
    "def preprocess(word_token):\n",
    "    stop_words = set(stopwords.words('english')+list(punctuation)+['’','“','–','”',',','.','‘'])\n",
    "    word_frequencies = {}\n",
    "    for word in word_token:\n",
    "        if word not in stop_words:\n",
    "            if word not in word_frequencies.keys():\n",
    "                word_frequencies[word] = 1\n",
    "            else:\n",
    "                word_frequencies[word] += 1\n",
    "    return word_frequencies    "
   ]
  },
  {
   "cell_type": "code",
   "execution_count": 6,
   "metadata": {},
   "outputs": [],
   "source": [
    "sentences = sent_tokenize(GetText(url))[0:-2]\n",
    "word_token = word_tokenize(GetText(url))\n",
    "word_frequencies = preprocess(word_token)"
   ]
  },
  {
   "cell_type": "code",
   "execution_count": 7,
   "metadata": {},
   "outputs": [
    {
     "data": {
      "text/plain": [
       "625"
      ]
     },
     "execution_count": 7,
     "metadata": {},
     "output_type": "execute_result"
    }
   ],
   "source": [
    "sum(word_frequencies.values())"
   ]
  },
  {
   "cell_type": "code",
   "execution_count": 8,
   "metadata": {},
   "outputs": [],
   "source": [
    "def frequency(word_frequencies):\n",
    "    total_count = sum(word_frequencies.values())\n",
    "    for word in word_frequencies.keys():  \n",
    "        word_frequencies[word] = (word_frequencies[word]/total_count) # TF\n",
    "    return word_frequencies"
   ]
  },
  {
   "cell_type": "code",
   "execution_count": 9,
   "metadata": {},
   "outputs": [
    {
     "data": {
      "text/plain": [
       "{\"'d\": 0.0016,\n",
       " \"'s\": 0.0016,\n",
       " '2003': 0.0016,\n",
       " '2016': 0.0032,\n",
       " '24': 0.0016,\n",
       " 'A': 0.0016,\n",
       " 'According': 0.0016,\n",
       " 'Additional': 0.0016,\n",
       " 'Administrative': 0.0016,\n",
       " 'Andy': 0.0064,\n",
       " 'Aside': 0.0016,\n",
       " 'At': 0.0016,\n",
       " 'Basic': 0.0112,\n",
       " 'Beijing': 0.0016,\n",
       " 'Both': 0.0016,\n",
       " 'But': 0.0016,\n",
       " 'Chan': 0.0176,\n",
       " 'Cheung': 0.0032,\n",
       " 'Chu': 0.04,\n",
       " 'Comments': 0.0016,\n",
       " 'Council': 0.0048,\n",
       " 'Eddie': 0.0016,\n",
       " 'Election': 0.0016,\n",
       " 'Enoch': 0.0016,\n",
       " 'Eric': 0.0016,\n",
       " 'Even': 0.0016,\n",
       " 'Executive': 0.0016,\n",
       " 'February': 0.0016,\n",
       " 'Fisher': 0.0064,\n",
       " 'Gladys': 0.0016,\n",
       " 'HKU': 0.0016,\n",
       " 'He': 0.0032,\n",
       " 'Ho-tin': 0.0016,\n",
       " 'Hoi-dick': 0.0016,\n",
       " 'Hong': 0.0176,\n",
       " 'Hongkongers': 0.0016,\n",
       " 'It': 0.0016,\n",
       " 'January': 0.0016,\n",
       " 'Johannes': 0.0048,\n",
       " 'Ka-lok': 0.0016,\n",
       " 'Ka-wah': 0.0016,\n",
       " 'Kong': 0.0176,\n",
       " 'Law': 0.0112,\n",
       " 'Legco': 0.0032,\n",
       " 'Legislative': 0.0048,\n",
       " 'Li': 0.0048,\n",
       " 'Lok-kei': 0.0016,\n",
       " 'Man-mun': 0.0016,\n",
       " 'Monday': 0.0016,\n",
       " 'New': 0.0016,\n",
       " 'Ordinance': 0.0016,\n",
       " 'Pressed': 0.0016,\n",
       " 'Region': 0.0016,\n",
       " 'Representative': 0.0016,\n",
       " 'Returning': 0.0016,\n",
       " 'Ronny': 0.0016,\n",
       " 'Rural': 0.0016,\n",
       " 'SAR': 0.0016,\n",
       " 'Section': 0.0016,\n",
       " 'So': 0.0016,\n",
       " 'Speaking': 0.0016,\n",
       " 'Special': 0.0016,\n",
       " 'Stephen': 0.0016,\n",
       " 'Sum': 0.0016,\n",
       " 'Sunday': 0.0032,\n",
       " 'Tat-ming': 0.0016,\n",
       " 'Territories': 0.0016,\n",
       " 'That': 0.0016,\n",
       " 'The': 0.016,\n",
       " 'Though': 0.0016,\n",
       " 'Tong': 0.0064,\n",
       " 'University': 0.0016,\n",
       " 'We': 0.0016,\n",
       " 'West': 0.0016,\n",
       " 'While': 0.0016,\n",
       " 'You': 0.0016,\n",
       " 'Yuen': 0.0064,\n",
       " 'according': 0.0016,\n",
       " 'added': 0.0032,\n",
       " 'advocate': 0.0016,\n",
       " 'affairs': 0.0016,\n",
       " 'ago': 0.0016,\n",
       " 'agreed': 0.0016,\n",
       " 'ahead': 0.0016,\n",
       " 'aid': 0.0016,\n",
       " 'allegiance': 0.008,\n",
       " 'allowed': 0.0016,\n",
       " 'also': 0.0096,\n",
       " 'another': 0.0032,\n",
       " 'answered': 0.0016,\n",
       " 'anyone': 0.0016,\n",
       " 'appeal': 0.0064,\n",
       " 'appeal.': 0.0016,\n",
       " 'appeals': 0.0016,\n",
       " 'application': 0.0032,\n",
       " 'applied': 0.0016,\n",
       " 'apply': 0.0016,\n",
       " 'argue': 0.0032,\n",
       " 'argument': 0.0032,\n",
       " 'asked': 0.0016,\n",
       " 'back': 0.0048,\n",
       " 'ban': 0.0048,\n",
       " 'barred': 0.0016,\n",
       " 'based': 0.0016,\n",
       " 'bear': 0.0016,\n",
       " 'become': 0.0016,\n",
       " 'beliefs': 0.0032,\n",
       " 'believe': 0.0016,\n",
       " 'best': 0.0032,\n",
       " 'binding': 0.0016,\n",
       " 'breaking': 0.0016,\n",
       " 'by-election': 0.0016,\n",
       " 'called': 0.0016,\n",
       " 'candidate': 0.0032,\n",
       " 'candidates': 0.0048,\n",
       " 'case': 0.0064,\n",
       " 'changed': 0.0016,\n",
       " 'city': 0.0016,\n",
       " 'clarification': 0.0016,\n",
       " 'clarified': 0.0016,\n",
       " 'clarify': 0.0048,\n",
       " 'classifying': 0.0016,\n",
       " 'clauses': 0.0016,\n",
       " 'clear': 0.0032,\n",
       " 'cogent': 0.0032,\n",
       " 'come': 0.0016,\n",
       " 'comment': 0.0016,\n",
       " 'common': 0.0016,\n",
       " 'compelling': 0.0032,\n",
       " 'concern': 0.0016,\n",
       " 'concerned': 0.0016,\n",
       " 'confessed': 0.0016,\n",
       " 'confirming': 0.0016,\n",
       " 'conflicting': 0.0016,\n",
       " 'construct': 0.0016,\n",
       " 'contentious': 0.0016,\n",
       " 'contrary': 0.0016,\n",
       " 'convince': 0.0016,\n",
       " 'cost': 0.0016,\n",
       " 'costs': 0.0016,\n",
       " 'could': 0.0112,\n",
       " 'council': 0.0048,\n",
       " 'councillor': 0.0016,\n",
       " 'court': 0.0064,\n",
       " 'courts': 0.0048,\n",
       " 'create': 0.0016,\n",
       " 'criteria': 0.0016,\n",
       " 'deadline': 0.0016,\n",
       " 'dean': 0.0016,\n",
       " 'decision': 0.008,\n",
       " 'declaration': 0.0016,\n",
       " 'declare': 0.0016,\n",
       " 'defended': 0.0016,\n",
       " 'deputy': 0.0016,\n",
       " 'difference': 0.0016,\n",
       " 'different': 0.0016,\n",
       " 'disqualification': 0.0032,\n",
       " 'disqualified': 0.0048,\n",
       " 'disqualify': 0.0016,\n",
       " 'disqualifying': 0.0016,\n",
       " 'district': 0.0048,\n",
       " 'dodged': 0.0016,\n",
       " 'drafting': 0.0016,\n",
       " 'effort': 0.0016,\n",
       " 'elected': 0.0016,\n",
       " 'election': 0.0144,\n",
       " 'elections': 0.0096,\n",
       " 'elections.': 0.0016,\n",
       " 'empowered': 0.0016,\n",
       " 'even': 0.0016,\n",
       " 'evidence': 0.0032,\n",
       " 'failed': 0.0016,\n",
       " 'far': 0.0016,\n",
       " 'filing': 0.0016,\n",
       " 'follows': 0.0016,\n",
       " 'formalise': 0.0016,\n",
       " 'former': 0.0032,\n",
       " 'fulfil': 0.0016,\n",
       " 'future': 0.0032,\n",
       " 'giving': 0.0016,\n",
       " 'go': 0.0016,\n",
       " 'government': 0.0048,\n",
       " 'handling': 0.0016,\n",
       " 'hardly': 0.0016,\n",
       " 'held': 0.0016,\n",
       " 'home': 0.0016,\n",
       " 'however': 0.0016,\n",
       " 'identify': 0.0016,\n",
       " 'imagined': 0.0016,\n",
       " 'implicitly': 0.0016,\n",
       " 'imply': 0.0016,\n",
       " 'including': 0.0016,\n",
       " 'incompatible': 0.0016,\n",
       " 'independence': 0.0096,\n",
       " 'indigenous': 0.0016,\n",
       " 'intention': 0.0032,\n",
       " 'intentions': 0.0016,\n",
       " 'interpretation': 0.0048,\n",
       " 'jumped': 0.0016,\n",
       " 'landmark': 0.0016,\n",
       " 'launch': 0.0048,\n",
       " 'launching': 0.0016,\n",
       " 'law': 0.0048,\n",
       " 'lawmaker': 0.0048,\n",
       " 'laws': 0.0032,\n",
       " 'lawyer': 0.0016,\n",
       " 'leading': 0.0016,\n",
       " 'learn': 0.0016,\n",
       " 'led': 0.0016,\n",
       " 'legal': 0.0096,\n",
       " 'like': 0.0016,\n",
       " 'local': 0.0016,\n",
       " 'localism': 0.0016,\n",
       " 'logic': 0.0016,\n",
       " 'look': 0.0016,\n",
       " 'lost': 0.0016,\n",
       " 'made': 0.0064,\n",
       " 'main': 0.0016,\n",
       " 'many': 0.0032,\n",
       " 'means': 0.0016,\n",
       " 'met': 0.0016,\n",
       " 'might': 0.0048,\n",
       " 'mind': 0.0016,\n",
       " 'mini-constitution': 0.0016,\n",
       " 'mirroring': 0.0016,\n",
       " 'must': 0.0016,\n",
       " 'needs': 0.0016,\n",
       " 'never': 0.0032,\n",
       " 'next': 0.0016,\n",
       " 'normal': 0.0016,\n",
       " 'office': 0.0016,\n",
       " 'officer': 0.0208,\n",
       " 'officers': 0.0048,\n",
       " 'officials': 0.0032,\n",
       " 'open': 0.0032,\n",
       " 'option': 0.0048,\n",
       " 'ordinance': 0.0032,\n",
       " 'override': 0.0016,\n",
       " 'past': 0.0016,\n",
       " 'peacefully': 0.0016,\n",
       " 'people': 0.0016,\n",
       " 'pledge': 0.0016,\n",
       " 'pointed': 0.0016,\n",
       " 'political': 0.0096,\n",
       " 'position': 0.0016,\n",
       " 'possibility': 0.0016,\n",
       " 'post': 0.0016,\n",
       " 'powers': 0.0016,\n",
       " 'precedent': 0.0016,\n",
       " 'process': 0.0016,\n",
       " 'provided': 0.0016,\n",
       " 'providing': 0.0016,\n",
       " 'public': 0.0032,\n",
       " 'questions': 0.0032,\n",
       " 'quickly': 0.0016,\n",
       " 'raised': 0.0016,\n",
       " 'ran': 0.0016,\n",
       " 'read': 0.0016,\n",
       " 'reasons': 0.0016,\n",
       " 'remained': 0.0016,\n",
       " 'reply': 0.0016,\n",
       " 'reporting': 0.0016,\n",
       " 'representative': 0.0048,\n",
       " 'representatives': 0.0032,\n",
       " 'represented': 0.0016,\n",
       " 'require': 0.0016,\n",
       " 'required': 0.0032,\n",
       " 'requirement': 0.0032,\n",
       " 'respect': 0.0016,\n",
       " 'responses': 0.0016,\n",
       " 'returning': 0.0176,\n",
       " 'right': 0.0016,\n",
       " 'room': 0.0016,\n",
       " 'rules': 0.0016,\n",
       " 'ruling': 0.0048,\n",
       " 'run': 0.0016,\n",
       " 'running': 0.0032,\n",
       " 'rural': 0.0048,\n",
       " 'said': 0.0368,\n",
       " 'say': 0.0016,\n",
       " 'saying': 0.0016,\n",
       " 'scholar': 0.0032,\n",
       " 'scholars': 0.0016,\n",
       " 'secretary': 0.0016,\n",
       " 'self-determination': 0.0032,\n",
       " 'sense': 0.0016,\n",
       " 'separate': 0.0016,\n",
       " 'separatist': 0.0016,\n",
       " 'set': 0.0016,\n",
       " 'shaky': 0.0016,\n",
       " 'share': 0.0016,\n",
       " 'signed': 0.0032,\n",
       " 'significant': 0.0016,\n",
       " 'silence': 0.0016,\n",
       " 'similar': 0.0016,\n",
       " 'since': 0.0016,\n",
       " 'situation': 0.0032,\n",
       " 'speaking': 0.0016,\n",
       " 'stance': 0.0048,\n",
       " 'standard': 0.0016,\n",
       " 'standing': 0.0016,\n",
       " 'state': 0.0032,\n",
       " 'statement': 0.0016,\n",
       " 'statements': 0.0032,\n",
       " 'steps.': 0.0016,\n",
       " 'still': 0.0016,\n",
       " 'struck': 0.0016,\n",
       " 'support': 0.0032,\n",
       " 'supported': 0.0016,\n",
       " 'surprised': 0.0016,\n",
       " 'take': 0.0016,\n",
       " 'think': 0.0016,\n",
       " 'told': 0.0016,\n",
       " 'took': 0.0016,\n",
       " 'true': 0.0016,\n",
       " 'twice': 0.0016,\n",
       " 'two': 0.0016,\n",
       " 'unthinkable': 0.0016,\n",
       " 'uphold': 0.0048,\n",
       " 'upholding': 0.0032,\n",
       " 'vague': 0.0016,\n",
       " 'vagueness': 0.0032,\n",
       " 'views': 0.0032,\n",
       " 'village': 0.0032,\n",
       " 'villagers': 0.0016,\n",
       " 'want': 0.0016,\n",
       " 'weak': 0.0016,\n",
       " 'whether': 0.0016,\n",
       " 'would': 0.0128,\n",
       " 'written': 0.0032,\n",
       " 'year': 0.0032,\n",
       " 'years': 0.0016}"
      ]
     },
     "execution_count": 9,
     "metadata": {},
     "output_type": "execute_result"
    }
   ],
   "source": [
    "word_frequencies = frequency(word_frequencies)\n",
    "word_frequencies"
   ]
  },
  {
   "cell_type": "code",
   "execution_count": 10,
   "metadata": {},
   "outputs": [],
   "source": [
    "def sent_score(sentences):\n",
    "    sentence_scores = {}\n",
    "    for sentence in sentences:\n",
    "        for word in word_tokenize(sentence.lower()):\n",
    "            if word in word_frequencies.keys():\n",
    "                if len(sentence.split(' ')) < 30:\n",
    "                    if sentence not in sentence_scores.keys():\n",
    "                        sentence_scores[sentence] = word_frequencies[word]\n",
    "                    else: \n",
    "                        sentence_scores[sentence] += word_frequencies[word]\n",
    "    return sentence_scores"
   ]
  },
  {
   "cell_type": "code",
   "execution_count": 11,
   "metadata": {},
   "outputs": [],
   "source": [
    "sentence_scores = sent_score(sentences)"
   ]
  },
  {
   "cell_type": "code",
   "execution_count": 12,
   "metadata": {},
   "outputs": [
    {
     "name": "stdout",
     "output_type": "stream",
     "text": [
      "Johannes Chan said Chu’s political stance was open to interpretation, and the election officer could hardly fulfil the criteria for providing “cogent, clear and compelling” evidence to disqualify him. Returning officer Enoch Yuen Ka-lok pointed to Chu’s stance on Hong Kong independence and said the lawmaker had dodged his questions on his political beliefs. Tong also said it might not have made a difference, had Chu answered all the questions raised by the returning officer.\n"
     ]
    }
   ],
   "source": [
    "summary_sentences = heapq.nlargest(3, sentence_scores, key=sentence_scores.get)\n",
    "summary = ' '.join(summary_sentences)  \n",
    "print(summary)  "
   ]
  },
  {
   "cell_type": "code",
   "execution_count": null,
   "metadata": {},
   "outputs": [],
   "source": []
  }
 ],
 "metadata": {
  "kernelspec": {
   "display_name": "Python 3",
   "language": "python",
   "name": "python3"
  },
  "language_info": {
   "codemirror_mode": {
    "name": "ipython",
    "version": 3
   },
   "file_extension": ".py",
   "mimetype": "text/x-python",
   "name": "python",
   "nbconvert_exporter": "python",
   "pygments_lexer": "ipython3",
   "version": "3.6.8"
  }
 },
 "nbformat": 4,
 "nbformat_minor": 2
}
