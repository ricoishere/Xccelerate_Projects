{
 "cells": [
  {
   "cell_type": "code",
   "execution_count": 109,
   "metadata": {},
   "outputs": [],
   "source": [
    "import pandas as pd\n",
    "import seaborn as sns\n",
    "import matplotlib.pyplot as plt\n",
    "sns.set(font_scale=1.3)\n",
    "%matplotlib inline"
   ]
  },
  {
   "cell_type": "code",
   "execution_count": 42,
   "metadata": {},
   "outputs": [],
   "source": [
    "auto = pd.DataFrame(pd.read_csv('automobile.csv')).dropna()"
   ]
  },
  {
   "cell_type": "code",
   "execution_count": 43,
   "metadata": {},
   "outputs": [],
   "source": [
    "auto = auto.drop(['symboling','normalized-losses','make',\n",
    "                  'fuel-type','engine-location','bore',\n",
    "                  'stroke','compression-ratio'], axis=1)"
   ]
  },
  {
   "cell_type": "code",
   "execution_count": 59,
   "metadata": {},
   "outputs": [],
   "source": [
    "auto['num-of-doors'] = auto['num-of-doors'].str.replace('four', '4')\n",
    "auto['num-of-doors'] = auto['num-of-doors'].str.replace('two', '2')\n",
    "auto['num-of-doors'] = auto['num-of-doors'].astype(float)"
   ]
  },
  {
   "cell_type": "code",
   "execution_count": 64,
   "metadata": {},
   "outputs": [],
   "source": [
    "auto['num-of-cylinders'] = auto['num-of-cylinders'].str.replace('four', '4')\n",
    "auto['num-of-cylinders'] = auto['num-of-cylinders'].str.replace('six', '6')\n",
    "auto['num-of-cylinders'] = auto['num-of-cylinders'].str.replace('five', '7')\n",
    "auto['num-of-cylinders'] = auto['num-of-cylinders'].str.replace('three', '3')\n",
    "auto['num-of-cylinders'] = auto['num-of-cylinders'].str.replace('eight', '1')\n",
    "auto['num-of-cylinders'] = auto['num-of-cylinders'].astype(float)"
   ]
  },
  {
   "cell_type": "code",
   "execution_count": 67,
   "metadata": {},
   "outputs": [],
   "source": [
    "from sklearn.cluster import KMeans"
   ]
  },
  {
   "cell_type": "code",
   "execution_count": 72,
   "metadata": {},
   "outputs": [
    {
     "name": "stdout",
     "output_type": "stream",
     "text": [
      "<class 'pandas.core.frame.DataFrame'>\n",
      "Int64Index: 159 entries, 3 to 204\n",
      "Data columns (total 18 columns):\n",
      "aspiration          159 non-null object\n",
      "num-of-doors        159 non-null float64\n",
      "body-style          159 non-null object\n",
      "drive-wheels        159 non-null object\n",
      "wheel-base          159 non-null float64\n",
      "length              159 non-null float64\n",
      "width               159 non-null float64\n",
      "height              159 non-null float64\n",
      "curb-weight         159 non-null int64\n",
      "engine-type         159 non-null object\n",
      "num-of-cylinders    159 non-null float64\n",
      "engine-size         159 non-null int64\n",
      "fuel-system         159 non-null object\n",
      "horsepower          159 non-null float64\n",
      "peak-rpm            159 non-null float64\n",
      "city-mpg            159 non-null int64\n",
      "highway-mpg         159 non-null int64\n",
      "price               159 non-null float64\n",
      "dtypes: float64(9), int64(4), object(5)\n",
      "memory usage: 23.6+ KB\n"
     ]
    }
   ],
   "source": [
    "auto.info()"
   ]
  },
  {
   "cell_type": "code",
   "execution_count": 78,
   "metadata": {},
   "outputs": [],
   "source": [
    "data = auto.select_dtypes(exclude=['object'])"
   ]
  },
  {
   "cell_type": "code",
   "execution_count": 98,
   "metadata": {},
   "outputs": [
    {
     "data": {
      "text/plain": [
       "KMeans(algorithm='auto', copy_x=True, init='k-means++', max_iter=300,\n",
       "    n_clusters=3, n_init=10, n_jobs=1, precompute_distances='auto',\n",
       "    random_state=None, tol=0.0001, verbose=0)"
      ]
     },
     "execution_count": 98,
     "metadata": {},
     "output_type": "execute_result"
    }
   ],
   "source": [
    "kmeans = KMeans(3) # the value in brackets is K (the number of clusters)\n",
    "kmeans.fit(data)"
   ]
  },
  {
   "cell_type": "code",
   "execution_count": 99,
   "metadata": {},
   "outputs": [
    {
     "name": "stderr",
     "output_type": "stream",
     "text": [
      "/anaconda3/lib/python3.6/site-packages/ipykernel_launcher.py:1: SettingWithCopyWarning: \n",
      "A value is trying to be set on a copy of a slice from a DataFrame.\n",
      "Try using .loc[row_indexer,col_indexer] = value instead\n",
      "\n",
      "See the caveats in the documentation: http://pandas.pydata.org/pandas-docs/stable/indexing.html#indexing-view-versus-copy\n",
      "  \"\"\"Entry point for launching an IPython kernel.\n"
     ]
    }
   ],
   "source": [
    "data['assignment'] = kmeans.fit_predict(data)"
   ]
  },
  {
   "cell_type": "code",
   "execution_count": 100,
   "metadata": {},
   "outputs": [
    {
     "data": {
      "text/html": [
       "<div>\n",
       "<style scoped>\n",
       "    .dataframe tbody tr th:only-of-type {\n",
       "        vertical-align: middle;\n",
       "    }\n",
       "\n",
       "    .dataframe tbody tr th {\n",
       "        vertical-align: top;\n",
       "    }\n",
       "\n",
       "    .dataframe thead th {\n",
       "        text-align: right;\n",
       "    }\n",
       "</style>\n",
       "<table border=\"1\" class=\"dataframe\">\n",
       "  <thead>\n",
       "    <tr style=\"text-align: right;\">\n",
       "      <th></th>\n",
       "      <th>num-of-doors</th>\n",
       "      <th>wheel-base</th>\n",
       "      <th>length</th>\n",
       "      <th>width</th>\n",
       "      <th>height</th>\n",
       "      <th>curb-weight</th>\n",
       "      <th>num-of-cylinders</th>\n",
       "      <th>engine-size</th>\n",
       "      <th>horsepower</th>\n",
       "      <th>peak-rpm</th>\n",
       "      <th>city-mpg</th>\n",
       "      <th>highway-mpg</th>\n",
       "      <th>price</th>\n",
       "      <th>assignment</th>\n",
       "    </tr>\n",
       "  </thead>\n",
       "  <tbody>\n",
       "    <tr>\n",
       "      <th>13</th>\n",
       "      <td>4.0</td>\n",
       "      <td>101.2</td>\n",
       "      <td>176.8</td>\n",
       "      <td>64.8</td>\n",
       "      <td>54.3</td>\n",
       "      <td>2765</td>\n",
       "      <td>6.0</td>\n",
       "      <td>164</td>\n",
       "      <td>121.0</td>\n",
       "      <td>4250.0</td>\n",
       "      <td>21</td>\n",
       "      <td>28</td>\n",
       "      <td>21105.0</td>\n",
       "      <td>1</td>\n",
       "    </tr>\n",
       "    <tr>\n",
       "      <th>28</th>\n",
       "      <td>4.0</td>\n",
       "      <td>103.3</td>\n",
       "      <td>174.6</td>\n",
       "      <td>64.6</td>\n",
       "      <td>59.8</td>\n",
       "      <td>2535</td>\n",
       "      <td>4.0</td>\n",
       "      <td>122</td>\n",
       "      <td>88.0</td>\n",
       "      <td>5000.0</td>\n",
       "      <td>24</td>\n",
       "      <td>30</td>\n",
       "      <td>8921.0</td>\n",
       "      <td>0</td>\n",
       "    </tr>\n",
       "    <tr>\n",
       "      <th>26</th>\n",
       "      <td>4.0</td>\n",
       "      <td>93.7</td>\n",
       "      <td>157.3</td>\n",
       "      <td>63.8</td>\n",
       "      <td>50.6</td>\n",
       "      <td>1989</td>\n",
       "      <td>4.0</td>\n",
       "      <td>90</td>\n",
       "      <td>68.0</td>\n",
       "      <td>5500.0</td>\n",
       "      <td>31</td>\n",
       "      <td>38</td>\n",
       "      <td>7609.0</td>\n",
       "      <td>0</td>\n",
       "    </tr>\n",
       "    <tr>\n",
       "      <th>40</th>\n",
       "      <td>4.0</td>\n",
       "      <td>96.5</td>\n",
       "      <td>175.4</td>\n",
       "      <td>62.5</td>\n",
       "      <td>54.1</td>\n",
       "      <td>2372</td>\n",
       "      <td>4.0</td>\n",
       "      <td>110</td>\n",
       "      <td>86.0</td>\n",
       "      <td>5800.0</td>\n",
       "      <td>27</td>\n",
       "      <td>33</td>\n",
       "      <td>10295.0</td>\n",
       "      <td>0</td>\n",
       "    </tr>\n",
       "    <tr>\n",
       "      <th>187</th>\n",
       "      <td>4.0</td>\n",
       "      <td>97.3</td>\n",
       "      <td>171.7</td>\n",
       "      <td>65.5</td>\n",
       "      <td>55.7</td>\n",
       "      <td>2319</td>\n",
       "      <td>4.0</td>\n",
       "      <td>97</td>\n",
       "      <td>68.0</td>\n",
       "      <td>4500.0</td>\n",
       "      <td>37</td>\n",
       "      <td>42</td>\n",
       "      <td>9495.0</td>\n",
       "      <td>0</td>\n",
       "    </tr>\n",
       "  </tbody>\n",
       "</table>\n",
       "</div>"
      ],
      "text/plain": [
       "     num-of-doors  wheel-base  length  width  height  curb-weight  \\\n",
       "13            4.0       101.2   176.8   64.8    54.3         2765   \n",
       "28            4.0       103.3   174.6   64.6    59.8         2535   \n",
       "26            4.0        93.7   157.3   63.8    50.6         1989   \n",
       "40            4.0        96.5   175.4   62.5    54.1         2372   \n",
       "187           4.0        97.3   171.7   65.5    55.7         2319   \n",
       "\n",
       "     num-of-cylinders  engine-size  horsepower  peak-rpm  city-mpg  \\\n",
       "13                6.0          164       121.0    4250.0        21   \n",
       "28                4.0          122        88.0    5000.0        24   \n",
       "26                4.0           90        68.0    5500.0        31   \n",
       "40                4.0          110        86.0    5800.0        27   \n",
       "187               4.0           97        68.0    4500.0        37   \n",
       "\n",
       "     highway-mpg    price  assignment  \n",
       "13            28  21105.0           1  \n",
       "28            30   8921.0           0  \n",
       "26            38   7609.0           0  \n",
       "40            33  10295.0           0  \n",
       "187           42   9495.0           0  "
      ]
     },
     "execution_count": 100,
     "metadata": {},
     "output_type": "execute_result"
    }
   ],
   "source": [
    "data.sample(5)"
   ]
  },
  {
   "cell_type": "code",
   "execution_count": 160,
   "metadata": {},
   "outputs": [
    {
     "data": {
      "text/plain": [
       "Text(0,0.5,'price')"
      ]
     },
     "execution_count": 160,
     "metadata": {},
     "output_type": "execute_result"
    },
    {
     "data": {
      "image/png": "[encoded data removed]",
      "text/plain": [
       "<matplotlib.figure.Figure at 0x1a1cebc438>"
      ]
     },
     "metadata": {},
     "output_type": "display_data"
    }
   ],
   "source": [
    "fig, axs = plt.subplots(2,2, sharex=False, sharey=True)\n",
    "plt.subplots_adjust(left  = 0.2, right = 0.9, bottom = 0.1, top = 1, wspace = 0.5, hspace = 0.5)  \n",
    "\n",
    "axs[0,0].scatter(data['horsepower'], data['price'], c=data['assignment'], cmap='rainbow')\n",
    "axs[0,0].set_xlabel('Horsepower')\n",
    "axs[0,0].set_ylabel('price')\n",
    "\n",
    "\n",
    "axs[0,1].scatter(data['highway-mpg'], data['price'], c=data['assignment'], cmap='rainbow')\n",
    "axs[0,1].set_xlabel('highway-mpg')\n",
    "axs[0,1].set_ylabel('price')\n",
    "\n",
    "axs[1,1].scatter(data['curb-weight'], data['price'], c=data['assignment'], cmap='rainbow')\n",
    "axs[1,1].set_xlabel('curb-weight')\n",
    "axs[1,1].set_ylabel('price')\n",
    "\n",
    "\n",
    "axs[1,0].scatter(data['peak-rpm'], data['price'], c=data['assignment'], cmap='rainbow')\n",
    "axs[1,0].set_xlabel('Peak-Rpm')\n",
    "axs[1,0].set_ylabel('price')"
   ]
  },
  {
   "cell_type": "code",
   "execution_count": 112,
   "metadata": {},
   "outputs": [
    {
     "data": {
      "text/plain": [
       "array([[ 0.82078268,  0.29815708,  0.36442988, ..., -0.3233128 ,\n",
       "         0.42739781,  1.15200709],\n",
       "       [ 0.82078268,  0.22050438,  0.36442988, ..., -1.56577168,\n",
       "         1.02473438,  1.15200709],\n",
       "       [ 0.82078268,  1.46294766,  1.76602852, ..., -1.0998496 ,\n",
       "         1.06910795,  1.15200709],\n",
       "       ...,\n",
       "       [ 0.82078268,  2.10358247,  1.42651084, ..., -1.41046432,\n",
       "         1.71337812,  1.15200709],\n",
       "       [ 0.82078268,  2.10358247,  1.42651084, ..., -0.78923488,\n",
       "         1.88148569,  1.15200709],\n",
       "       [ 0.82078268,  2.10358247,  1.42651084, ..., -1.0998496 ,\n",
       "         1.90793917,  1.15200709]])"
      ]
     },
     "execution_count": 112,
     "metadata": {},
     "output_type": "execute_result"
    }
   ],
   "source": [
    "from sklearn import preprocessing\n",
    "x_scaled = preprocessing.scale(data)\n",
    "x_scaled"
   ]
  },
  {
   "cell_type": "code",
   "execution_count": 113,
   "metadata": {},
   "outputs": [
    {
     "data": {
      "text/plain": [
       "[2226.0,\n",
       " 1252.3994597352626,\n",
       " 1042.4148898072415,\n",
       " 915.8264176013121,\n",
       " 827.9842503217508,\n",
       " 737.8846987373335,\n",
       " 681.5639433085476,\n",
       " 637.026032782195,\n",
       " 585.4337522229293]"
      ]
     },
     "execution_count": 113,
     "metadata": {},
     "output_type": "execute_result"
    }
   ],
   "source": [
    "wcss = []\n",
    "for i in range(1,10):\n",
    "    kmeans = KMeans(i)\n",
    "    kmeans.fit(x_scaled)\n",
    "    wcss.append(kmeans.inertia_)\n",
    "wcss"
   ]
  },
  {
   "cell_type": "code",
   "execution_count": 114,
   "metadata": {},
   "outputs": [
    {
     "data": {
      "text/plain": [
       "Text(0,0.5,'Within-cluster Sums of Squares')"
      ]
     },
     "execution_count": 114,
     "metadata": {},
     "output_type": "execute_result"
    },
    {
     "data": {
      "image/png": "[encoded data removed]",
      "text/plain": [
       "<matplotlib.figure.Figure at 0x1a239f4c18>"
      ]
     },
     "metadata": {},
     "output_type": "display_data"
    }
   ],
   "source": [
    "plt.plot(range(1,10), wcss)\n",
    "plt.xlabel('Number of clusters')\n",
    "plt.ylabel('Within-cluster Sums of Squares')"
   ]
  },
  {
   "cell_type": "code",
   "execution_count": null,
   "metadata": {},
   "outputs": [],
   "source": []
  }
 ],
 "metadata": {
  "kernelspec": {
   "display_name": "Python 3",
   "language": "python",
   "name": "python3"
  },
  "language_info": {
   "codemirror_mode": {
    "name": "ipython",
    "version": 3
   },
   "file_extension": ".py",
   "mimetype": "text/x-python",
   "name": "python",
   "nbconvert_exporter": "python",
   "pygments_lexer": "ipython3",
   "version": "3.6.4"
  }
 },
 "nbformat": 4,
 "nbformat_minor": 2
}
