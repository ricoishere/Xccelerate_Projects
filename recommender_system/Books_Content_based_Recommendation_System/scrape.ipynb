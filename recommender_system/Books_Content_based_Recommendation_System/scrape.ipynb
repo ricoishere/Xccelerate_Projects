{
 "cells": [
  {
   "cell_type": "code",
   "execution_count": 2,
   "metadata": {},
   "outputs": [],
   "source": [
    "from bs4 import BeautifulSoup\n",
    "import requests"
   ]
  },
  {
   "cell_type": "code",
   "execution_count": 3,
   "metadata": {},
   "outputs": [],
   "source": [
    "def get_description(isbn):\n",
    "    data = requests.get(f'https://www.justbooks.co.uk/search/?isbn={isbn}&mode=isbn&st=sr&ac=qr')\n",
    "    soup = BeautifulSoup(data.text, 'html.parser')\n",
    "    try:\n",
    "        for item in soup.findAll('div', {'id':'bookSummary'}):\n",
    "            description = item.text \n",
    "    except:\n",
    "        description = 'NaN'\n",
    "    return description"
   ]
  },
  {
   "cell_type": "code",
   "execution_count": 4,
   "metadata": {},
   "outputs": [
    {
     "data": {
      "text/plain": [
       "\"This updated edition of its popular predecessor strikes a balance between the mathematical aspects of the subject and its origin in empirics. It offers, at an elementary level, some of the current topics in applied mathematics such as singular perturbation, nonlinear waves, bifurcation, and the numerical solution of partial differential equations. Features additional sections on the WKB Approximation and asymptotic expansion of integrals along with expanded chapters on Green's Functions and integral equations. Includes Maple programs and examples from biology, chemistry, physics, and engineering.\""
      ]
     },
     "execution_count": 4,
     "metadata": {},
     "output_type": "execute_result"
    }
   ],
   "source": [
    "get_description('0471165131')"
   ]
  },
  {
   "cell_type": "code",
   "execution_count": null,
   "metadata": {},
   "outputs": [],
   "source": []
  }
 ],
 "metadata": {
  "kernelspec": {
   "display_name": "Python 3",
   "language": "python",
   "name": "python3"
  },
  "language_info": {
   "codemirror_mode": {
    "name": "ipython",
    "version": 3
   },
   "file_extension": ".py",
   "mimetype": "text/x-python",
   "name": "python",
   "nbconvert_exporter": "python",
   "pygments_lexer": "ipython3",
   "version": "3.6.8"
  }
 },
 "nbformat": 4,
 "nbformat_minor": 2
}
